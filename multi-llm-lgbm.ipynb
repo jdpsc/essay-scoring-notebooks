{
 "cells": [
  {
   "cell_type": "markdown",
   "id": "6a88adee",
   "metadata": {
    "papermill": {
     "duration": 0.006154,
     "end_time": "2024-06-10T14:44:31.549440",
     "exception": false,
     "start_time": "2024-06-10T14:44:31.543286",
     "status": "completed"
    },
    "tags": []
   },
   "source": [
    "# Load Libraries and Define Configs"
   ]
  },
  {
   "cell_type": "code",
   "execution_count": null,
   "id": "f5a30131",
   "metadata": {
    "execution": {
     "iopub.execute_input": "2024-06-10T14:44:31.562101Z",
     "iopub.status.busy": "2024-06-10T14:44:31.561476Z",
     "iopub.status.idle": "2024-06-10T14:44:44.254514Z",
     "shell.execute_reply": "2024-06-10T14:44:44.253725Z"
    },
    "papermill": {
     "duration": 12.702069,
     "end_time": "2024-06-10T14:44:44.256960",
     "exception": false,
     "start_time": "2024-06-10T14:44:31.554891",
     "status": "completed"
    },
    "tags": []
   },
   "outputs": [],
   "source": [
    "import os\n",
    "import numpy as np\n",
    "import pandas as pd\n",
    "import gc\n",
    "import torch\n",
    "import torch.nn.functional as F\n",
    "from sklearn.model_selection import StratifiedKFold\n",
    "from transformers import AutoModel, AutoTokenizer\n",
    "from tqdm import tqdm\n",
    "import lightgbm as lgb\n",
    "from sklearn.metrics import cohen_kappa_score\n",
    "import matplotlib.pyplot as plt\n",
    "\n",
    "# Set the environment variable for CUDA devices\n",
    "os.environ[\"CUDA_VISIBLE_DEVICES\"] = \"0,1\""
   ]
  },
  {
   "cell_type": "markdown",
   "id": "9ec90aa7",
   "metadata": {
    "papermill": {
     "duration": 0.0052,
     "end_time": "2024-06-10T14:44:44.268069",
     "exception": false,
     "start_time": "2024-06-10T14:44:44.262869",
     "status": "completed"
    },
    "tags": []
   },
   "source": [
    "# Load the Data"
   ]
  },
  {
   "cell_type": "code",
   "execution_count": null,
   "id": "4ad237e8",
   "metadata": {
    "execution": {
     "iopub.execute_input": "2024-06-10T14:44:44.280190Z",
     "iopub.status.busy": "2024-06-10T14:44:44.279899Z",
     "iopub.status.idle": "2024-06-10T14:44:45.013963Z",
     "shell.execute_reply": "2024-06-10T14:44:45.012816Z"
    },
    "papermill": {
     "duration": 0.742632,
     "end_time": "2024-06-10T14:44:45.016206",
     "exception": false,
     "start_time": "2024-06-10T14:44:44.273574",
     "status": "completed"
    },
    "tags": []
   },
   "outputs": [],
   "source": [
    "train = pd.read_csv(\"/kaggle/input/learning-agency-lab-automated-essay-scoring-2/train.csv\")\n",
    "print(\"Train shape\", train.shape)\n",
    "train.head()\n",
    "print(train.head())\n",
    "\n",
    "test = pd.read_csv(\"/kaggle/input/learning-agency-lab-automated-essay-scoring-2/test.csv\")\n",
    "print(\"Test shape\", test.shape)\n",
    "print(test.head())"
   ]
  },
  {
   "cell_type": "markdown",
   "id": "2da707b8",
   "metadata": {
    "papermill": {
     "duration": 0.005723,
     "end_time": "2024-06-10T14:44:45.027847",
     "exception": false,
     "start_time": "2024-06-10T14:44:45.022124",
     "status": "completed"
    },
    "tags": []
   },
   "source": [
    "# Stratified 15 K Fold"
   ]
  },
  {
   "cell_type": "code",
   "execution_count": null,
   "id": "d6820d87",
   "metadata": {
    "execution": {
     "iopub.execute_input": "2024-06-10T14:44:45.040381Z",
     "iopub.status.busy": "2024-06-10T14:44:45.040089Z",
     "iopub.status.idle": "2024-06-10T14:44:45.078242Z",
     "shell.execute_reply": "2024-06-10T14:44:45.077338Z"
    },
    "papermill": {
     "duration": 0.046846,
     "end_time": "2024-06-10T14:44:45.080307",
     "exception": false,
     "start_time": "2024-06-10T14:44:45.033461",
     "status": "completed"
    },
    "tags": []
   },
   "outputs": [],
   "source": [
    "FOLDS = 15\n",
    "train[\"fold\"] = -1\n",
    "skf = StratifiedKFold(n_splits=FOLDS, shuffle=True, random_state=42)\n",
    "for fold, (train_index, val_index) in enumerate(skf.split(train, train[\"score\"])):\n",
    "    train.loc[val_index, \"fold\"] = fold\n",
    "print('Train samples per fold:')\n",
    "train.fold.value_counts().sort_index()"
   ]
  },
  {
   "cell_type": "markdown",
   "id": "f9b324cf",
   "metadata": {
    "papermill": {
     "duration": 0.006027,
     "end_time": "2024-06-10T14:44:45.092417",
     "exception": false,
     "start_time": "2024-06-10T14:44:45.086390",
     "status": "completed"
    },
    "tags": []
   },
   "source": [
    "# Generate Embeddings"
   ]
  },
  {
   "cell_type": "code",
   "execution_count": null,
   "id": "3a313c3f",
   "metadata": {
    "execution": {
     "iopub.execute_input": "2024-06-10T14:44:45.106175Z",
     "iopub.status.busy": "2024-06-10T14:44:45.105564Z",
     "iopub.status.idle": "2024-06-10T14:44:45.110921Z",
     "shell.execute_reply": "2024-06-10T14:44:45.110132Z"
    },
    "papermill": {
     "duration": 0.014059,
     "end_time": "2024-06-10T14:44:45.112776",
     "exception": false,
     "start_time": "2024-06-10T14:44:45.098717",
     "status": "completed"
    },
    "tags": []
   },
   "outputs": [],
   "source": [
    "# Helper function for mean pooling\n",
    "def mean_pooling(model_output, attention_mask):\n",
    "    token_embeddings = model_output.last_hidden_state.detach().cpu()\n",
    "    input_mask_expanded = attention_mask.unsqueeze(-1).expand(token_embeddings.size()).float()\n",
    "    return torch.sum(token_embeddings * input_mask_expanded, 1) / torch.clamp(input_mask_expanded.sum(1), min=1e-9)"
   ]
  },
  {
   "cell_type": "code",
   "execution_count": null,
   "id": "827c3432",
   "metadata": {
    "execution": {
     "iopub.execute_input": "2024-06-10T14:44:45.125535Z",
     "iopub.status.busy": "2024-06-10T14:44:45.125278Z",
     "iopub.status.idle": "2024-06-10T14:44:45.131734Z",
     "shell.execute_reply": "2024-06-10T14:44:45.130965Z"
    },
    "papermill": {
     "duration": 0.015053,
     "end_time": "2024-06-10T14:44:45.133613",
     "exception": false,
     "start_time": "2024-06-10T14:44:45.118560",
     "status": "completed"
    },
    "tags": []
   },
   "outputs": [],
   "source": [
    "# Dataset class for embedding generation\n",
    "class EmbedDataset(torch.utils.data.Dataset):\n",
    "    def __init__(self, df, tokenizer, max_length):\n",
    "        self.df = df.reset_index(drop=True)\n",
    "        self.tokenizer = tokenizer\n",
    "        self.max_length = max_length\n",
    "\n",
    "    def __len__(self):\n",
    "        return len(self.df)\n",
    "\n",
    "    def __getitem__(self, idx):\n",
    "        text = self.df.loc[idx, \"full_text\"]\n",
    "        tokens = self.tokenizer(\n",
    "            text,\n",
    "            add_special_tokens=True,\n",
    "            padding='max_length',\n",
    "            truncation=True,\n",
    "            max_length=self.max_length,\n",
    "            return_tensors=\"pt\"\n",
    "        )\n",
    "        tokens = {k: v.squeeze(0) for k, v in tokens.items()}\n",
    "        return tokens"
   ]
  },
  {
   "cell_type": "code",
   "execution_count": null,
   "id": "492caaae",
   "metadata": {
    "execution": {
     "iopub.execute_input": "2024-06-10T14:44:45.146690Z",
     "iopub.status.busy": "2024-06-10T14:44:45.146417Z",
     "iopub.status.idle": "2024-06-10T14:44:45.158882Z",
     "shell.execute_reply": "2024-06-10T14:44:45.158091Z"
    },
    "papermill": {
     "duration": 0.021377,
     "end_time": "2024-06-10T14:44:45.160814",
     "exception": false,
     "start_time": "2024-06-10T14:44:45.139437",
     "status": "completed"
    },
    "tags": []
   },
   "outputs": [],
   "source": [
    "# Function to generate embeddings\n",
    "def get_embeddings(model_name='', max_length=1024, batch_size=32, compute_train=True, compute_test=True):\n",
    "    global train, test\n",
    "    DEVICE = \"cuda:1\"\n",
    "    \n",
    "    # Necessary since this competition does not allow Internet access\n",
    "    path = \"/kaggle/input/download-huggingface/\"\n",
    "    disk_name = path + model_name.replace(\"/\",\"_\")\n",
    "    \n",
    "    model = AutoModel.from_pretrained(disk_name, trust_remote_code=True)\n",
    "    tokenizer = AutoTokenizer.from_pretrained(disk_name, trust_remote_code=True)\n",
    "\n",
    "    ds_tr = EmbedDataset(train, tokenizer, max_length)\n",
    "    embed_dataloader_tr = torch.utils.data.DataLoader(ds_tr, batch_size=batch_size, shuffle=False)\n",
    "    ds_te = EmbedDataset(test, tokenizer, max_length)\n",
    "    embed_dataloader_te = torch.utils.data.DataLoader(ds_te, batch_size=batch_size, shuffle=False)\n",
    "\n",
    "    model.to(DEVICE)\n",
    "    model.eval()\n",
    "\n",
    "    all_train_text_feats = []\n",
    "    if compute_train:\n",
    "        for batch in tqdm(embed_dataloader_tr, total=len(embed_dataloader_tr)):\n",
    "            input_ids = batch[\"input_ids\"].to(DEVICE)\n",
    "            attention_mask = batch[\"attention_mask\"].to(DEVICE)\n",
    "            with torch.no_grad():\n",
    "                with torch.cuda.amp.autocast(enabled=True):\n",
    "                    model_output = model(input_ids=input_ids, attention_mask=attention_mask)\n",
    "            sentence_embeddings = mean_pooling(model_output, attention_mask.detach().cpu())\n",
    "            sentence_embeddings = F.normalize(sentence_embeddings, p=2, dim=1)\n",
    "            all_train_text_feats.extend(sentence_embeddings.squeeze(0).detach().cpu().numpy())\n",
    "    all_train_text_feats = np.array(all_train_text_feats)\n",
    "\n",
    "    all_test_text_feats = []\n",
    "    if compute_test:\n",
    "        for batch in embed_dataloader_te:\n",
    "            input_ids = batch[\"input_ids\"].to(DEVICE)\n",
    "            attention_mask = batch[\"attention_mask\"].to(DEVICE)\n",
    "            with torch.no_grad():\n",
    "                with torch.cuda.amp.autocast(enabled=True):\n",
    "                    model_output = model(input_ids=input_ids, attention_mask=attention_mask)\n",
    "            sentence_embeddings = mean_pooling(model_output, attention_mask.detach().cpu())\n",
    "            sentence_embeddings = F.normalize(sentence_embeddings, p=2, dim=1)\n",
    "            all_test_text_feats.extend(sentence_embeddings.squeeze(0).detach().cpu().numpy())\n",
    "    all_test_text_feats = np.array(all_test_text_feats)\n",
    "\n",
    "    # Clear memory\n",
    "    del ds_tr, ds_te, embed_dataloader_tr, embed_dataloader_te, model, tokenizer\n",
    "    gc.collect()\n",
    "    torch.cuda.empty_cache()\n",
    "\n",
    "    return all_train_text_feats, all_test_text_feats"
   ]
  },
  {
   "cell_type": "code",
   "execution_count": null,
   "id": "4ddc44a0",
   "metadata": {
    "execution": {
     "iopub.execute_input": "2024-06-10T14:44:45.173722Z",
     "iopub.status.busy": "2024-06-10T14:44:45.173434Z",
     "iopub.status.idle": "2024-06-10T14:44:45.177995Z",
     "shell.execute_reply": "2024-06-10T14:44:45.177153Z"
    },
    "papermill": {
     "duration": 0.013156,
     "end_time": "2024-06-10T14:44:45.179931",
     "exception": false,
     "start_time": "2024-06-10T14:44:45.166775",
     "status": "completed"
    },
    "tags": []
   },
   "outputs": [],
   "source": [
    "# List of models to generate embeddings\n",
    "models = [\n",
    "    ('microsoft/deberta-base', 1024, 32),\n",
    "    ('microsoft/deberta-large', 1024, 8),\n",
    "    ('microsoft/deberta-v3-large', 1024, 8),\n",
    "    ('allenai/longformer-base-4096', 1024, 32),\n",
    "    ('google/bigbird-roberta-base', 1024, 32),\n",
    "    ('google/bigbird-roberta-large', 1024, 8),\n",
    "]"
   ]
  },
  {
   "cell_type": "code",
   "execution_count": null,
   "id": "01655eaa",
   "metadata": {
    "execution": {
     "iopub.execute_input": "2024-06-10T14:44:45.193583Z",
     "iopub.status.busy": "2024-06-10T14:44:45.193348Z",
     "iopub.status.idle": "2024-06-10T14:45:40.682147Z",
     "shell.execute_reply": "2024-06-10T14:45:40.680943Z"
    },
    "papermill": {
     "duration": 55.498454,
     "end_time": "2024-06-10T14:45:40.684336",
     "exception": false,
     "start_time": "2024-06-10T14:44:45.185882",
     "status": "completed"
    },
    "tags": []
   },
   "outputs": [],
   "source": [
    "all_train_embeds = []\n",
    "all_test_embeds = []\n",
    "\n",
    "for model, max_length, batch_size in models:\n",
    "    model_path_name = model.replace(\"/\",\"_\")\n",
    "    full_path = '/kaggle/input/d/joaodpscorreia/essay-train-embeddings/' + model_path_name + '.npy'\n",
    "    \n",
    "    if os.path.exists(full_path):\n",
    "        _, test_embed = get_embeddings(model_name=model, max_length=max_length, batch_size=batch_size, compute_train=False, compute_test=True)\n",
    "        train_embed = np.load(full_path)\n",
    "        print(f\"Loaded train embeddings for {model}\")\n",
    "    else:\n",
    "        print(f\"Computing train embeddings for {model}\")\n",
    "        train_embed, test_embed = get_embeddings(model_name=model, max_length=max_length, batch_size=batch_size, compute_train=True, compute_test=True)\n",
    "        save_path = '/kaggle/working/' + model_path_name + '.npy'\n",
    "        np.save(save_path, train_embed)\n",
    "        \n",
    "    all_train_embeds.append(train_embed)\n",
    "    all_test_embeds.append(test_embed)"
   ]
  },
  {
   "cell_type": "code",
   "execution_count": null,
   "id": "79813783",
   "metadata": {
    "execution": {
     "iopub.execute_input": "2024-06-10T14:45:40.700827Z",
     "iopub.status.busy": "2024-06-10T14:45:40.699627Z",
     "iopub.status.idle": "2024-06-10T14:45:40.979142Z",
     "shell.execute_reply": "2024-06-10T14:45:40.978093Z"
    },
    "papermill": {
     "duration": 0.289992,
     "end_time": "2024-06-10T14:45:40.981305",
     "exception": false,
     "start_time": "2024-06-10T14:45:40.691313",
     "status": "completed"
    },
    "tags": []
   },
   "outputs": [],
   "source": [
    "all_train_embeds = np.concatenate(all_train_embeds, axis=1)\n",
    "all_test_embeds = np.concatenate(all_test_embeds, axis=1)\n",
    "gc.collect()\n",
    "print('Our concatenated train embeddings have shape', all_train_embeds.shape)"
   ]
  },
  {
   "cell_type": "markdown",
   "id": "e2ae580b",
   "metadata": {
    "papermill": {
     "duration": 0.006603,
     "end_time": "2024-06-10T14:45:40.994810",
     "exception": false,
     "start_time": "2024-06-10T14:45:40.988207",
     "status": "completed"
    },
    "tags": []
   },
   "source": [
    "# Model Training"
   ]
  },
  {
   "cell_type": "code",
   "execution_count": null,
   "id": "553e69b2",
   "metadata": {
    "execution": {
     "iopub.execute_input": "2024-06-10T14:45:41.009161Z",
     "iopub.status.busy": "2024-06-10T14:45:41.008882Z",
     "iopub.status.idle": "2024-06-10T14:45:41.013257Z",
     "shell.execute_reply": "2024-06-10T14:45:41.012468Z"
    },
    "papermill": {
     "duration": 0.013723,
     "end_time": "2024-06-10T14:45:41.015061",
     "exception": false,
     "start_time": "2024-06-10T14:45:41.001338",
     "status": "completed"
    },
    "tags": []
   },
   "outputs": [],
   "source": [
    "# Function to compute Quadratic Weighted Kappa score\n",
    "def comp_score(y_true, y_pred):\n",
    "    p = y_pred.clip(1, 6).round(0)\n",
    "    return cohen_kappa_score(y_true, p, weights='quadratic')"
   ]
  },
  {
   "cell_type": "code",
   "execution_count": null,
   "id": "0cb2e326",
   "metadata": {
    "execution": {
     "iopub.execute_input": "2024-06-10T14:45:41.029609Z",
     "iopub.status.busy": "2024-06-10T14:45:41.029350Z",
     "iopub.status.idle": "2024-06-10T16:00:07.741892Z",
     "shell.execute_reply": "2024-06-10T16:00:07.740905Z"
    },
    "papermill": {
     "duration": 4466.722511,
     "end_time": "2024-06-10T16:00:07.744196",
     "exception": false,
     "start_time": "2024-06-10T14:45:41.021685",
     "status": "completed"
    },
    "tags": []
   },
   "outputs": [],
   "source": [
    "# Train LightGBM Model\n",
    "oof = np.zeros(len(train), dtype='float32')\n",
    "test_preds = np.zeros((len(test), FOLDS), dtype='float32')\n",
    "\n",
    "for fold in range(FOLDS):\n",
    "    print(f'Fold {fold + 1}')\n",
    "    \n",
    "    train_index = train[\"fold\"] != fold\n",
    "    valid_index = train[\"fold\"] == fold\n",
    "    \n",
    "    X_train = all_train_embeds[train_index]\n",
    "    y_train = train.loc[train_index, 'score'].values\n",
    "    X_valid = all_train_embeds[valid_index]\n",
    "    y_valid = train.loc[valid_index, 'score'].values\n",
    "    X_test = all_test_embeds\n",
    "\n",
    "    train_data = lgb.Dataset(X_train, label=y_train)\n",
    "    valid_data = lgb.Dataset(X_valid, label=y_valid, reference=train_data)\n",
    "\n",
    "    params = {\n",
    "        'objective': 'regression',\n",
    "        'metric': 'rmse',\n",
    "        'boosting_type': 'gbdt',\n",
    "        'num_leaves': 31,\n",
    "        'learning_rate': 0.05,\n",
    "        'feature_fraction': 0.9,\n",
    "    }\n",
    "\n",
    "    num_round = 500\n",
    "    early_stopping = 50\n",
    "    bst = lgb.train(params, train_data, num_round, valid_sets=[valid_data], callbacks=[lgb.early_stopping(stopping_rounds=early_stopping), lgb.log_evaluation(early_stopping)])\n",
    "    \n",
    "    preds = bst.predict(X_valid, num_iteration=bst.best_iteration)\n",
    "    test_preds[:, fold] = bst.predict(X_test, num_iteration=bst.best_iteration)\n",
    "    oof[valid_index] = preds\n",
    "\n",
    "    score = comp_score(y_valid, preds)\n",
    "    print(f\"QWK score: {score}\")\n",
    "\n",
    "overall_score = comp_score(train.score.values, oof)\n",
    "print('Overall CV QWK score =', overall_score)"
   ]
  },
  {
   "cell_type": "markdown",
   "id": "6facadd8",
   "metadata": {
    "papermill": {
     "duration": 0.019779,
     "end_time": "2024-06-10T16:00:07.784287",
     "exception": false,
     "start_time": "2024-06-10T16:00:07.764508",
     "status": "completed"
    },
    "tags": []
   },
   "source": [
    "# Find optimal QWK thresholds"
   ]
  },
  {
   "cell_type": "code",
   "execution_count": null,
   "id": "ba0c4cc7",
   "metadata": {
    "execution": {
     "iopub.execute_input": "2024-06-10T16:00:07.826004Z",
     "iopub.status.busy": "2024-06-10T16:00:07.825250Z",
     "iopub.status.idle": "2024-06-10T16:02:01.270721Z",
     "shell.execute_reply": "2024-06-10T16:02:01.269710Z"
    },
    "papermill": {
     "duration": 113.489842,
     "end_time": "2024-06-10T16:02:01.294130",
     "exception": false,
     "start_time": "2024-06-10T16:00:07.804288",
     "status": "completed"
    },
    "tags": []
   },
   "outputs": [],
   "source": [
    "# Function to find optimal thresholds for QWK score\n",
    "def find_thresholds(true, pred, steps=50):\n",
    "    xs = [[], [], [], [], []]\n",
    "    ys = [[], [], [], [], []]\n",
    "\n",
    "    threshold = [1.5, 2.5, 3.5, 4.5, 5.5]\n",
    "    pred2 = pd.cut(pred, [-np.inf] + threshold + [np.inf], labels=[1, 2, 3, 4, 5, 6]).astype('int32')\n",
    "    best = cohen_kappa_score(true, pred2, weights=\"quadratic\")\n",
    "\n",
    "    for k in range(5):\n",
    "        for sign in [1, -1]:\n",
    "            v = threshold[k]\n",
    "            threshold2 = threshold.copy()\n",
    "            stop = 0\n",
    "            while stop < steps:\n",
    "                v += sign * 0.001\n",
    "                threshold2[k] = v\n",
    "                pred2 = pd.cut(pred, [-np.inf] + threshold2 + [np.inf], labels=[1, 2, 3, 4, 5, 6]).astype('int32')\n",
    "                metric = cohen_kappa_score(true, pred2, weights=\"quadratic\")\n",
    "                xs[k].append(v)\n",
    "                ys[k].append(metric)\n",
    "                if metric <= best:\n",
    "                    stop += 1\n",
    "                else:\n",
    "                    stop = 0\n",
    "                    best = metric\n",
    "                    threshold = threshold2.copy()\n",
    "\n",
    "    pred2 = pd.cut(pred, [-np.inf] + threshold + [np.inf], labels=[1, 2, 3, 4, 5, 6]).astype('int32')\n",
    "    best = cohen_kappa_score(true, pred2, weights=\"quadratic\")\n",
    "    threshold = [np.round(t, 3) for t in threshold]\n",
    "    return best, threshold, xs, ys\n",
    "\n",
    "best, thresholds, xs, ys = find_thresholds(train.score.values, oof, steps=500)\n",
    "print('Best thresholds are:', thresholds)\n",
    "print('achieve Overall CV QWK score =', best)"
   ]
  },
  {
   "cell_type": "code",
   "execution_count": null,
   "id": "1524cad0",
   "metadata": {
    "execution": {
     "iopub.execute_input": "2024-06-10T16:02:01.336100Z",
     "iopub.status.busy": "2024-06-10T16:02:01.335807Z",
     "iopub.status.idle": "2024-06-10T16:02:02.863498Z",
     "shell.execute_reply": "2024-06-10T16:02:02.862585Z"
    },
    "papermill": {
     "duration": 1.551309,
     "end_time": "2024-06-10T16:02:02.865737",
     "exception": false,
     "start_time": "2024-06-10T16:02:01.314428",
     "status": "completed"
    },
    "tags": []
   },
   "outputs": [],
   "source": [
    "# Display Thresholds\n",
    "diff = 0.5\n",
    "for k in range(5):\n",
    "    plt.figure(figsize=(10, 3))\n",
    "    plt.scatter(xs[k], ys[k], s=3)\n",
    "    m = k + 1.5\n",
    "    plt.xlim((m - diff, m + diff))\n",
    "    i = np.where((np.array(xs[k]) > m - diff) & (np.array(xs[k]) < m + diff))[0]\n",
    "    mn = np.min(np.array(ys[k])[i])\n",
    "    mx = np.max(np.array(ys[k])[i])\n",
    "    plt.ylim((mn, mx))\n",
    "    plt.plot([thresholds[k], thresholds[k]], [mn, mx], '--', color='black', label='optimal threshold')\n",
    "    plt.title(f\"Threshold between {k + 1} and {k + 2}\", size=16)\n",
    "    plt.xlabel('Threshold value', size=10)\n",
    "    plt.ylabel('QWK CV score', size=10)\n",
    "    plt.legend()\n",
    "    plt.show()"
   ]
  },
  {
   "cell_type": "markdown",
   "id": "175df9b6",
   "metadata": {
    "papermill": {
     "duration": 0.022617,
     "end_time": "2024-06-10T16:02:02.912066",
     "exception": false,
     "start_time": "2024-06-10T16:02:02.889449",
     "status": "completed"
    },
    "tags": []
   },
   "source": [
    "# Create Submission CSV"
   ]
  },
  {
   "cell_type": "code",
   "execution_count": null,
   "id": "3483d35f",
   "metadata": {
    "execution": {
     "iopub.execute_input": "2024-06-10T16:02:02.960339Z",
     "iopub.status.busy": "2024-06-10T16:02:02.960033Z",
     "iopub.status.idle": "2024-06-10T16:02:02.967223Z",
     "shell.execute_reply": "2024-06-10T16:02:02.966335Z"
    },
    "papermill": {
     "duration": 0.034056,
     "end_time": "2024-06-10T16:02:02.969436",
     "exception": false,
     "start_time": "2024-06-10T16:02:02.935380",
     "status": "completed"
    },
    "tags": []
   },
   "outputs": [],
   "source": [
    "# Create Submission\n",
    "test_preds = np.mean(test_preds, axis=1)\n",
    "print('Test preds shape:', test_preds.shape)\n",
    "test_preds_pp = pd.cut(test_preds, [-np.inf] + thresholds + [np.inf], labels=[1, 2, 3, 4, 5, 6]).astype('int32')"
   ]
  },
  {
   "cell_type": "code",
   "execution_count": null,
   "id": "f38e04f0",
   "metadata": {
    "execution": {
     "iopub.execute_input": "2024-06-10T16:02:03.017974Z",
     "iopub.status.busy": "2024-06-10T16:02:03.017664Z",
     "iopub.status.idle": "2024-06-10T16:02:03.049149Z",
     "shell.execute_reply": "2024-06-10T16:02:03.048272Z"
    },
    "papermill": {
     "duration": 0.058408,
     "end_time": "2024-06-10T16:02:03.051176",
     "exception": false,
     "start_time": "2024-06-10T16:02:02.992768",
     "status": "completed"
    },
    "tags": []
   },
   "outputs": [],
   "source": [
    "sub = pd.read_csv(\"/kaggle/input/learning-agency-lab-automated-essay-scoring-2/sample_submission.csv\")\n",
    "sub[\"score\"] = test_preds_pp\n",
    "sub.score = sub.score.astype('int32')\n",
    "sub.to_csv(\"submission.csv\", index=False)\n",
    "print(\"Submission shape\", sub.shape)\n",
    "sub.head()"
   ]
  },
  {
   "cell_type": "code",
   "execution_count": null,
   "id": "4c6665ac",
   "metadata": {
    "papermill": {
     "duration": 0.02319,
     "end_time": "2024-06-10T16:02:03.098994",
     "exception": false,
     "start_time": "2024-06-10T16:02:03.075804",
     "status": "completed"
    },
    "tags": []
   },
   "outputs": [],
   "source": []
  }
 ],
 "metadata": {
  "kaggle": {
   "accelerator": "nvidiaTeslaT4",
   "dataSources": [
    {
     "databundleVersionId": 8059942,
     "sourceId": 71485,
     "sourceType": "competition"
    },
    {
     "datasetId": 5181212,
     "sourceId": 8649900,
     "sourceType": "datasetVersion"
    },
    {
     "datasetId": 5181247,
     "sourceId": 8649944,
     "sourceType": "datasetVersion"
    },
    {
     "datasetId": 5185392,
     "sourceId": 8655800,
     "sourceType": "datasetVersion"
    },
    {
     "sourceId": 182584587,
     "sourceType": "kernelVersion"
    }
   ],
   "dockerImageVersionId": 30699,
   "isGpuEnabled": true,
   "isInternetEnabled": false,
   "language": "python",
   "sourceType": "notebook"
  },
  "kernelspec": {
   "display_name": "Python 3",
   "language": "python",
   "name": "python3"
  },
  "language_info": {
   "codemirror_mode": {
    "name": "ipython",
    "version": 3
   },
   "file_extension": ".py",
   "mimetype": "text/x-python",
   "name": "python",
   "nbconvert_exporter": "python",
   "pygments_lexer": "ipython3",
   "version": "3.10.13"
  },
  "papermill": {
   "default_parameters": {},
   "duration": 4657.611786,
   "end_time": "2024-06-10T16:02:06.070024",
   "environment_variables": {},
   "exception": null,
   "input_path": "__notebook__.ipynb",
   "output_path": "__notebook__.ipynb",
   "parameters": {},
   "start_time": "2024-06-10T14:44:28.458238",
   "version": "2.3.4"
  }
 },
 "nbformat": 4,
 "nbformat_minor": 5
}
